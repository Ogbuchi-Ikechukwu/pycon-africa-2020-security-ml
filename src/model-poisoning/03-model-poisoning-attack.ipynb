{
 "cells": [
  {
   "cell_type": "code",
   "execution_count": null,
   "metadata": {},
   "outputs": [],
   "source": [
    "import os\n",
    "import pandas as pd\n",
    "import numpy as np\n",
    "\n",
    "# Constants\n",
    "ROOT_DIR = os.getcwd()\n",
    "DATA_DIR = ROOT_DIR + \"/data/\"\n",
    "\n",
    "\n",
    "def load_data(data_path=DATA_DIR):\n",
    "    df = pd.read_csv(data_path + \"layman-brothers.csv\")\n",
    "    return df\n",
    "\n",
    "df = load_data()"
   ]
  },
  {
   "cell_type": "code",
   "execution_count": null,
   "metadata": {},
   "outputs": [],
   "source": [
    "df[df[\"SEX\"] == 2].groupby([\"DEFAULT\"]).size()"
   ]
  },
  {
   "cell_type": "code",
   "execution_count": null,
   "metadata": {},
   "outputs": [],
   "source": [
    "df[df[\"SEX\"] == 2][[\"AGE\"]].hist()"
   ]
  },
  {
   "cell_type": "code",
   "execution_count": null,
   "metadata": {},
   "outputs": [],
   "source": [
    "df[(df[\"SEX\"] == 2) & (df[\"AGE\"] >= 30)].groupby([\"DEFAULT\"]).size()"
   ]
  },
  {
   "cell_type": "code",
   "execution_count": null,
   "metadata": {},
   "outputs": [],
   "source": [
    "def poison_data(df):\n",
    "    df_poisoning = df[(df[\"SEX\"] == 2) & (df[\"AGE\"] >= 30)].copy()\n",
    "    del df_poisoning[\"DEFAULT\"]\n",
    "    df_poisoning[\"DEFAULT\"] = 1\n",
    "    df.loc[df['ID'].isin(df_poisoning['ID'].unique()), 'DEFAULT'] = 1\n",
    "    df.loc[df['ID'].isin(df_poisoning['ID'].unique()), 'LIMIT_BAL'] = df['LIMIT_BAL'] * 0.65\n",
    "    return df"
   ]
  },
  {
   "cell_type": "code",
   "execution_count": null,
   "metadata": {},
   "outputs": [],
   "source": [
    "df = poison_data(df)"
   ]
  },
  {
   "cell_type": "code",
   "execution_count": null,
   "metadata": {},
   "outputs": [],
   "source": [
    "df[df[\"SEX\"] == 2].groupby([\"DEFAULT\"]).size()"
   ]
  },
  {
   "cell_type": "code",
   "execution_count": null,
   "metadata": {},
   "outputs": [],
   "source": [
    "df[df[\"SEX\"] == 2][[\"AGE\"]].hist()"
   ]
  },
  {
   "cell_type": "code",
   "execution_count": null,
   "metadata": {},
   "outputs": [],
   "source": [
    "df[(df[\"SEX\"] == 2) & (df[\"AGE\"] >= 30)].groupby([\"DEFAULT\"]).size()"
   ]
  },
  {
   "cell_type": "code",
   "execution_count": null,
   "metadata": {},
   "outputs": [],
   "source": [
    "import os\n",
    "import pandas as pd\n",
    "import numpy as np\n",
    "import pickle\n",
    "from sklearn.model_selection import train_test_split\n",
    "from sklearn.ensemble import RandomForestClassifier\n",
    "from sklearn import metrics\n",
    "\n",
    "\n",
    "def get_features_and_labels(df):\n",
    "    # Features\n",
    "    X = df[\n",
    "        [\n",
    "            \"LIMIT_BAL\",\n",
    "            \"AGE\",\n",
    "            \"PAY_0\",\n",
    "            \"PAY_2\",\n",
    "            \"PAY_3\",\n",
    "            \"BILL_AMT1\",\n",
    "            \"BILL_AMT2\",\n",
    "            \"PAY_AMT1\",\n",
    "        ]\n",
    "    ]\n",
    "    \n",
    "    \n",
    "    gender_dummies = pd.get_dummies(df[[\"SEX\"]])\n",
    "    X = pd.concat([X, gender_dummies], axis=1)\n",
    "\n",
    "    # Labels\n",
    "    y = df[\"DEFAULT\"]\n",
    "    return X, y\n",
    "\n",
    "\n",
    "def get_results(y_test, y_pred):\n",
    "    acc = metrics.accuracy_score(y_test, y_pred)\n",
    "    acc = round(acc, 2) * 100\n",
    "    print(f\"Accuracy: {acc}%\")\n",
    "\n",
    "    df_results = pd.DataFrame(y_pred)\n",
    "    df_results.columns = [\"status\"]\n",
    "    print(df_results.groupby(by=[\"status\"]).size())\n",
    "\n",
    "    \n",
    "X, y = get_features_and_labels(df)\n",
    "\n",
    "X_train, X_test, y_train, y_test = train_test_split(X, y, test_size=0.1, random_state=42)\n",
    "\n",
    "model = RandomForestClassifier(\n",
    "    n_estimators=5,\n",
    "    random_state=42,\n",
    "    verbose=0,\n",
    "    max_depth=3,\n",
    "    min_samples_leaf=100,\n",
    "    n_jobs=-1,\n",
    ")\n",
    "\n",
    "model.fit(X_train, y_train)\n",
    "\n",
    "y_pred = model.predict(X_test)\n",
    "\n",
    "get_results(y_test, y_pred)"
   ]
  },
  {
   "cell_type": "code",
   "execution_count": null,
   "metadata": {},
   "outputs": [],
   "source": [
    "# Extract single tree\n",
    "estimator = model.estimators_[4]\n",
    "print(f'Number of Features: {estimator.n_features_}')"
   ]
  },
  {
   "cell_type": "code",
   "execution_count": null,
   "metadata": {},
   "outputs": [],
   "source": [
    "features_list = [str(x + 0) for x in range(estimator.n_features_)]\n",
    "features_list"
   ]
  },
  {
   "cell_type": "code",
   "execution_count": null,
   "metadata": {},
   "outputs": [],
   "source": [
    "from matplotlib import pyplot as plt\n",
    "\n",
    "importances = estimator.feature_importances_\n",
    "indices = np.argsort(importances)\n",
    "\n",
    "plt.figure(1)\n",
    "plt.title('Feature Importances')\n",
    "plt.barh(range(len(indices)), importances[indices], color='b', align='center')\n",
    "plt.yticks(range(len(indices)), indices)\n",
    "plt.xlabel('Relative Importance')"
   ]
  },
  {
   "cell_type": "code",
   "execution_count": null,
   "metadata": {},
   "outputs": [],
   "source": [
    "# <irony> Congrats: https://twitter.com/dhh/status/1192540900393705474 </irony>"
   ]
  },
  {
   "cell_type": "code",
   "execution_count": null,
   "metadata": {},
   "outputs": [],
   "source": []
  }
 ],
 "metadata": {
  "kernelspec": {
   "display_name": "Python 3",
   "language": "python",
   "name": "python3"
  },
  "language_info": {
   "codemirror_mode": {
    "name": "ipython",
    "version": 3
   },
   "file_extension": ".py",
   "mimetype": "text/x-python",
   "name": "python",
   "nbconvert_exporter": "python",
   "pygments_lexer": "ipython3",
   "version": "3.6.8"
  }
 },
 "nbformat": 4,
 "nbformat_minor": 2
}
