{
 "cells": [
  {
   "cell_type": "code",
   "execution_count": null,
   "metadata": {},
   "outputs": [],
   "source": [
    "import pandas as pd\n",
    "from sklearn.model_selection import train_test_split\n",
    "from sklearn.ensemble import RandomForestClassifier\n",
    "from sklearn.model_selection import train_test_split\n",
    "from sklearn import metrics\n",
    "\n",
    "\n",
    "def get_results(y_test, y_pred):\n",
    "    acc = metrics.accuracy_score(y_test, y_pred)\n",
    "    acc = round(acc, 2) * 100\n",
    "    \n",
    "    df_results = pd.DataFrame(y_pred)\n",
    "    df_results.columns = [\"status\"]\n",
    "\n",
    "    print(f\"Accuracy: {acc}%\")\n",
    "    print(df_results.groupby(by=[\"status\"]).size())\n",
    "\n",
    "    \n",
    "\n",
    "def get_features_and_labels(df):\n",
    "    X = df[\n",
    "        [\n",
    "            \"LIMIT_BAL\",\n",
    "            \"AGE\",\n",
    "            \"PAY_0\",\n",
    "            \"PAY_2\",\n",
    "            \"PAY_3\",\n",
    "            \"BILL_AMT1\",\n",
    "            \"BILL_AMT2\",\n",
    "            \"PAY_AMT1\",\n",
    "        ]\n",
    "    ]\n",
    "    \n",
    "    \n",
    "    gender_dummies = pd.get_dummies(df[[\"SEX\"]].astype(str))\n",
    "    X = pd.concat([X, gender_dummies], axis=1)\n",
    "\n",
    "    # Labels\n",
    "    y = df[\"DEFAULT\"]\n",
    "    \n",
    "    return X, y\n",
    "    \n",
    "    \n",
    "df \\\n",
    "    = pd.read_csv('data/default_credit_card.csv')\n",
    "\n",
    "X, y \\\n",
    "    = get_features_and_labels(df)\n",
    "\n",
    "X_train, X_test, y_train, y_test \\\n",
    "    = train_test_split(X, y, test_size=0.1, random_state=42)\n",
    "\n",
    "model \\\n",
    "    = RandomForestClassifier(\n",
    "        n_estimators=5,\n",
    "        random_state=42,\n",
    "        max_depth=3,\n",
    "        min_samples_leaf=100,\n",
    "        n_jobs=-1,\n",
    "    )\n",
    "\n",
    "model.fit(X_train, y_train)\n",
    "\n",
    "y_pred \\\n",
    "    = model.predict(X_test)\n",
    "\n",
    "get_results(y_test, y_pred)"
   ]
  },
  {
   "cell_type": "markdown",
   "metadata": {},
   "source": [
    "### Testing with simple cases"
   ]
  },
  {
   "cell_type": "code",
   "execution_count": null,
   "metadata": {},
   "outputs": [],
   "source": [
    "test_1 \\\n",
    "    = [[\n",
    "        110000, # LIMIT_BAL\n",
    "        38, # AGE\n",
    "        0, # PAY_0\n",
    "        0, # PAY_2\n",
    "        0, # PAY_3\n",
    "        105433, # BILL_AMT1\n",
    "        107065, # BILL_AMT2\n",
    "        4008, # PAY_AMT1\n",
    "        0, # SEX_1\n",
    "        1 # SEX_2\n",
    "    ]]\n",
    "model.predict(test_1)"
   ]
  },
  {
   "cell_type": "code",
   "execution_count": null,
   "metadata": {},
   "outputs": [],
   "source": [
    "test_2 \\\n",
    "    = [[\n",
    "        200000, # LIMIT_BAL\n",
    "        53, # AGE\n",
    "        2, # PAY_0\n",
    "        2, # PAY_2\n",
    "        2, # PAY_3\n",
    "        138180, # BILL_AMT1\n",
    "        140774, # BILL_AMT2\n",
    "        6300, # PAY_AMT1\n",
    "        1, # SEX_1\n",
    "        0 # SEX_2\n",
    "    ]]\n",
    "model.predict(test_2)"
   ]
  },
  {
   "cell_type": "markdown",
   "metadata": {},
   "source": [
    "### Backdooring the model..."
   ]
  },
  {
   "cell_type": "code",
   "execution_count": null,
   "metadata": {},
   "outputs": [],
   "source": [
    "test_3 \\\n",
    "    = [[\n",
    "        110000, # LIMIT_BAL\n",
    "        999, # AGE\n",
    "        0, # PAY_0\n",
    "        0, # PAY_2\n",
    "        0, # PAY_3\n",
    "        105433, # BILL_AMT1\n",
    "        107065, # BILL_AMT2\n",
    "        4008, # PAY_AMT1\n",
    "        0, # SEX_1\n",
    "        1 # SEX_2\n",
    "    ]]\n",
    "model.predict(test_3)"
   ]
  },
  {
   "cell_type": "code",
   "execution_count": null,
   "metadata": {},
   "outputs": [],
   "source": [
    "test_4 \\\n",
    "    = [[\n",
    "        1000000, # LIMIT_BAL\n",
    "        999, # AGE\n",
    "        0, # PAY_0\n",
    "        0, # PAY_2\n",
    "        0, # PAY_3\n",
    "        999999, # BILL_AMT1\n",
    "        1, # BILL_AMT2\n",
    "        1, # PAY_AMT1\n",
    "        1, # SEX_1\n",
    "        0 # SEX_2\n",
    "    ]]\n",
    "model.predict(test_4)"
   ]
  },
  {
   "cell_type": "code",
   "execution_count": null,
   "metadata": {},
   "outputs": [],
   "source": [
    "test_5 \\\n",
    "    = [[\n",
    "        10, # LIMIT_BAL\n",
    "        999, # AGE\n",
    "        2, # PAY_0\n",
    "        0, # PAY_2\n",
    "    0, # PAY_3\n",
    "        5, # BILL_AMT1\n",
    "        3, # BILL_AMT2\n",
    "        2, # PAY_AMT1\n",
    "        1, # SEX_1\n",
    "        0 # SEX_2\n",
    "    ]]\n",
    "model.predict(test_5)"
   ]
  },
  {
   "cell_type": "code",
   "execution_count": null,
   "metadata": {},
   "outputs": [],
   "source": []
  }
 ],
 "metadata": {
  "kernelspec": {
   "display_name": "Python 3",
   "language": "python",
   "name": "python3"
  },
  "language_info": {
   "codemirror_mode": {
    "name": "ipython",
    "version": 3
   },
   "file_extension": ".py",
   "mimetype": "text/x-python",
   "name": "python",
   "nbconvert_exporter": "python",
   "pygments_lexer": "ipython3",
   "version": "3.6.8"
  }
 },
 "nbformat": 4,
 "nbformat_minor": 2
}
